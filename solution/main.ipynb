{
 "cells": [
  {
   "cell_type": "code",
   "execution_count": 8,
   "metadata": {},
   "outputs": [],
   "source": [
    "import pandas as pd\n",
    "import pickle\n",
    "from sklearn.linear_model import LinearRegression"
   ]
  },
  {
   "cell_type": "code",
   "execution_count": 2,
   "metadata": {},
   "outputs": [
    {
     "data": {
      "text/html": [
       "<div>\n",
       "<style scoped>\n",
       "    .dataframe tbody tr th:only-of-type {\n",
       "        vertical-align: middle;\n",
       "    }\n",
       "\n",
       "    .dataframe tbody tr th {\n",
       "        vertical-align: top;\n",
       "    }\n",
       "\n",
       "    .dataframe thead th {\n",
       "        text-align: right;\n",
       "    }\n",
       "</style>\n",
       "<table border=\"1\" class=\"dataframe\">\n",
       "  <thead>\n",
       "    <tr style=\"text-align: right;\">\n",
       "      <th></th>\n",
       "      <th>postcode</th>\n",
       "      <th>house_type</th>\n",
       "      <th>house_surface</th>\n",
       "      <th>nb_room</th>\n",
       "      <th>garden_area</th>\n",
       "      <th>value</th>\n",
       "    </tr>\n",
       "  </thead>\n",
       "  <tbody>\n",
       "    <tr>\n",
       "      <th>0</th>\n",
       "      <td>1</td>\n",
       "      <td>Maison</td>\n",
       "      <td>97.0</td>\n",
       "      <td>5</td>\n",
       "      <td>2410.0</td>\n",
       "      <td>185000</td>\n",
       "    </tr>\n",
       "    <tr>\n",
       "      <th>1</th>\n",
       "      <td>1</td>\n",
       "      <td>Maison</td>\n",
       "      <td>88.0</td>\n",
       "      <td>4</td>\n",
       "      <td>866.0</td>\n",
       "      <td>204332</td>\n",
       "    </tr>\n",
       "    <tr>\n",
       "      <th>2</th>\n",
       "      <td>1</td>\n",
       "      <td>Maison</td>\n",
       "      <td>168.0</td>\n",
       "      <td>5</td>\n",
       "      <td>1426.0</td>\n",
       "      <td>320000</td>\n",
       "    </tr>\n",
       "    <tr>\n",
       "      <th>3</th>\n",
       "      <td>1</td>\n",
       "      <td>Appartement</td>\n",
       "      <td>71.0</td>\n",
       "      <td>3</td>\n",
       "      <td>0.0</td>\n",
       "      <td>176000</td>\n",
       "    </tr>\n",
       "    <tr>\n",
       "      <th>4</th>\n",
       "      <td>1</td>\n",
       "      <td>Maison</td>\n",
       "      <td>96.0</td>\n",
       "      <td>3</td>\n",
       "      <td>0.0</td>\n",
       "      <td>226700</td>\n",
       "    </tr>\n",
       "    <tr>\n",
       "      <th>...</th>\n",
       "      <td>...</td>\n",
       "      <td>...</td>\n",
       "      <td>...</td>\n",
       "      <td>...</td>\n",
       "      <td>...</td>\n",
       "      <td>...</td>\n",
       "    </tr>\n",
       "    <tr>\n",
       "      <th>1099735</th>\n",
       "      <td>75</td>\n",
       "      <td>Appartement</td>\n",
       "      <td>15.0</td>\n",
       "      <td>1</td>\n",
       "      <td>0.0</td>\n",
       "      <td>230000</td>\n",
       "    </tr>\n",
       "    <tr>\n",
       "      <th>1099736</th>\n",
       "      <td>75</td>\n",
       "      <td>Appartement</td>\n",
       "      <td>26.0</td>\n",
       "      <td>1</td>\n",
       "      <td>0.0</td>\n",
       "      <td>400000</td>\n",
       "    </tr>\n",
       "    <tr>\n",
       "      <th>1099737</th>\n",
       "      <td>75</td>\n",
       "      <td>Appartement</td>\n",
       "      <td>25.0</td>\n",
       "      <td>1</td>\n",
       "      <td>0.0</td>\n",
       "      <td>400000</td>\n",
       "    </tr>\n",
       "    <tr>\n",
       "      <th>1099738</th>\n",
       "      <td>75</td>\n",
       "      <td>Appartement</td>\n",
       "      <td>30.0</td>\n",
       "      <td>2</td>\n",
       "      <td>0.0</td>\n",
       "      <td>383000</td>\n",
       "    </tr>\n",
       "    <tr>\n",
       "      <th>1099739</th>\n",
       "      <td>75</td>\n",
       "      <td>Appartement</td>\n",
       "      <td>37.0</td>\n",
       "      <td>2</td>\n",
       "      <td>0.0</td>\n",
       "      <td>260000</td>\n",
       "    </tr>\n",
       "  </tbody>\n",
       "</table>\n",
       "<p>1099740 rows × 6 columns</p>\n",
       "</div>"
      ],
      "text/plain": [
       "         postcode   house_type  house_surface  nb_room  garden_area   value\n",
       "0               1       Maison           97.0        5       2410.0  185000\n",
       "1               1       Maison           88.0        4        866.0  204332\n",
       "2               1       Maison          168.0        5       1426.0  320000\n",
       "3               1  Appartement           71.0        3          0.0  176000\n",
       "4               1       Maison           96.0        3          0.0  226700\n",
       "...           ...          ...            ...      ...          ...     ...\n",
       "1099735        75  Appartement           15.0        1          0.0  230000\n",
       "1099736        75  Appartement           26.0        1          0.0  400000\n",
       "1099737        75  Appartement           25.0        1          0.0  400000\n",
       "1099738        75  Appartement           30.0        2          0.0  383000\n",
       "1099739        75  Appartement           37.0        2          0.0  260000\n",
       "\n",
       "[1099740 rows x 6 columns]"
      ]
     },
     "execution_count": 2,
     "metadata": {},
     "output_type": "execute_result"
    }
   ],
   "source": [
    "data = pd.read_csv(\"data.csv\")\n",
    "data"
   ]
  },
  {
   "cell_type": "code",
   "execution_count": 3,
   "metadata": {},
   "outputs": [],
   "source": [
    "# Suppression de la variable postcode\n",
    "data = data.drop(\"postcode\", axis=1)"
   ]
  },
  {
   "cell_type": "code",
   "execution_count": 4,
   "metadata": {},
   "outputs": [
    {
     "name": "stdout",
     "output_type": "stream",
     "text": [
      "0          1\n",
      "1          1\n",
      "2          1\n",
      "3          0\n",
      "4          1\n",
      "          ..\n",
      "1099735    0\n",
      "1099736    0\n",
      "1099737    0\n",
      "1099738    0\n",
      "1099739    0\n",
      "Name: house_type, Length: 1099740, dtype: int64\n"
     ]
    }
   ],
   "source": [
    "# Transformation des données. Cette fonction sera appliqué à chaque ligne \n",
    "# de votre dataframe\n",
    "def transform_house_type(house_type: str) -> int:\n",
    "    return 0 if house_type == \"Appartement\" else 1\n",
    "\n",
    "print(data[\"house_type\"].apply(transform_house_type))"
   ]
  },
  {
   "cell_type": "code",
   "execution_count": 5,
   "metadata": {},
   "outputs": [],
   "source": [
    "# Mise à jour de la variable data\n",
    "data[\"house_type\"] = data[\"house_type\"].apply(transform_house_type)"
   ]
  },
  {
   "cell_type": "code",
   "execution_count": 6,
   "metadata": {},
   "outputs": [],
   "source": [
    "# Création des jeux d'entrainement\n",
    "X, y = data.drop(\"value\", axis=1), data.loc[:, \"value\"]"
   ]
  },
  {
   "cell_type": "code",
   "execution_count": 9,
   "metadata": {},
   "outputs": [],
   "source": [
    "# Création et entrainement du modèle linéaire\n",
    "model = LinearRegression().fit(X, y)"
   ]
  },
  {
   "cell_type": "code",
   "execution_count": 11,
   "metadata": {},
   "outputs": [],
   "source": [
    "# Sérialisation du modèle en pickle: création du model.pkl\n",
    "with open(\"model.pkl\", \"wb\") as pickle_file:\n",
    "    pickle.dump(model, pickle_file)"
   ]
  },
  {
   "cell_type": "code",
   "execution_count": 12,
   "metadata": {},
   "outputs": [
    {
     "data": {
      "text/plain": [
       "array([854185.62046927])"
      ]
     },
     "execution_count": 12,
     "metadata": {},
     "output_type": "execute_result"
    }
   ],
   "source": [
    "# Si vous avez correctement fait votre travail, cette cellule devrait fonctionner\n",
    "\n",
    "loaded_model = pickle.load(open(\"model.pkl\", 'rb'))\n",
    "loaded_model.predict(pd.Series([1, 100, 5, 100]).values.reshape(1, -1))"
   ]
  }
 ],
 "metadata": {
  "kernelspec": {
   "display_name": "Python 3.9.7 ('base')",
   "language": "python",
   "name": "python3"
  },
  "language_info": {
   "codemirror_mode": {
    "name": "ipython",
    "version": 3
   },
   "file_extension": ".py",
   "mimetype": "text/x-python",
   "name": "python",
   "nbconvert_exporter": "python",
   "pygments_lexer": "ipython3",
   "version": "3.9.7"
  },
  "orig_nbformat": 4,
  "vscode": {
   "interpreter": {
    "hash": "92780c23da17ac90b81e0f4fce58a2d474d49d37a808f4d3a79a2ccd38f26465"
   }
  }
 },
 "nbformat": 4,
 "nbformat_minor": 2
}
